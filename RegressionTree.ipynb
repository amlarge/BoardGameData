{
 "cells": [
  {
   "cell_type": "markdown",
   "metadata": {},
   "source": [
    "# Board Game Text Analysis"
   ]
  },
  {
   "cell_type": "code",
   "execution_count": 1,
   "metadata": {},
   "outputs": [
    {
     "name": "stderr",
     "output_type": "stream",
     "text": [
      "Warning message:\n",
      "\"package 'forcats' was built under R version 3.6.2\"Warning message:\n",
      "\"package 'rpart.plot' was built under R version 3.6.2\"Warning message:\n",
      "\"package 'rsample' was built under R version 3.6.2\"Warning message:\n",
      "\"package 'fivethirtyeight' was built under R version 3.6.2\"Warning message:\n",
      "\"package 'RSQLite' was built under R version 3.6.2\"Warning message:\n",
      "\"package 'DBI' was built under R version 3.6.2\"Registered S3 methods overwritten by 'ggplot2':\n",
      "  method         from \n",
      "  [.quosures     rlang\n",
      "  c.quosures     rlang\n",
      "  print.quosures rlang\n",
      "Warning message:\n",
      "\"package 'tidytext' was built under R version 3.6.2\"Warning message:\n",
      "\"package 'textdata' was built under R version 3.6.2\"Warning message:\n",
      "\"package 'hunspell' was built under R version 3.6.2\""
     ]
    }
   ],
   "source": [
    "\n",
    "#install.packages(\"tidytext\")\n",
    "#install.packages(\"textdata\")\n",
    "#install.packages(\"RSQLite\")\n",
    "#install.packages(\"fivethirtyeight\")\n",
    "#install.packages(\"forcats\")\n",
    "#install.packages(\"rsample\")\n",
    "#install.packages(\"rpart.plot\")\n",
    "\n",
    "library(broom, quietly = TRUE, warn.conflicts = FALSE)\n",
    "library(forcats, quietly = TRUE, warn.conflicts = FALSE)\n",
    "library(rpart.plot, quietly = TRUE, warn.conflicts = FALSE)\n",
    "library(rsample, quietly = TRUE, warn.conflicts = FALSE)\n",
    "library(tidyr, quietly = TRUE, warn.conflicts = FALSE)\n",
    "library(fivethirtyeight, quietly = TRUE, warn.conflicts = FALSE)\n",
    "library(RSQLite, quietly = TRUE, warn.conflicts = FALSE)\n",
    "library(DBI, quietly = TRUE, warn.conflicts = FALSE)\n",
    "library(ggplot2, quietly = TRUE, warn.conflicts = FALSE)\n",
    "library(dplyr, quietly = TRUE, warn.conflicts = FALSE)\n",
    "library(readr, quietly = TRUE, warn.conflicts = FALSE)\n",
    "library(tidytext, quietly = TRUE, warn.conflicts = FALSE)\n",
    "library(textdata, quietly = TRUE, warn.conflicts = FALSE)\n",
    "library(stringr, quietly = TRUE, warn.conflicts = FALSE)\n",
    "library(lubridate, quietly = TRUE, warn.conflicts = FALSE)\n",
    "library(knitr, quietly = TRUE, warn.conflicts = FALSE)\n",
    "library(hunspell, quietly = TRUE, warn.conflicts = FALSE)\n",
    "library(rpart, quietly = TRUE, warn.conflicts = FALSE)\n",
    "options(scipen = 99)\n"
   ]
  },
  {
   "cell_type": "code",
   "execution_count": 2,
   "metadata": {},
   "outputs": [],
   "source": [
    "bgames = dbConnect(RSQLite::SQLite(), \"database.sqlite\")"
   ]
  },
  {
   "cell_type": "code",
   "execution_count": 3,
   "metadata": {},
   "outputs": [],
   "source": [
    "alltables = dbListTables(bgames)\n",
    "p1 = dbGetQuery( bgames,'select * from BoardGames limit 1000' )\n",
    "\n",
    "p1 <- p1 %>%  filter(game.id !=680)\n",
    "p1 <- p1 %>% filter(game.id !=63)"
   ]
  },
  {
   "cell_type": "code",
   "execution_count": 4,
   "metadata": {},
   "outputs": [],
   "source": [
    "my_hunspell_stem <- function(token) {\n",
    "  stem_token <- hunspell_stem(token)[[1]]\n",
    "  if (length(stem_token) == 0) return(token) else return(stem_token[1])\n",
    "}\n",
    "vec_hunspell_stem <- Vectorize(my_hunspell_stem, \"token\")\n"
   ]
  },
  {
   "cell_type": "code",
   "execution_count": 5,
   "metadata": {},
   "outputs": [],
   "source": [
    "desc_tokens <- p1 %>% \n",
    "  mutate(details.description = str_replace_all(details.description, \n",
    "                                pattern=regex(\"(www|https?[^\\\\s]+)\"), \n",
    "                                replacement = \"\")) %>% #rm urls\n",
    "  mutate(details.description = str_replace_all(details.description,\n",
    "                                pattern = \"[[:digit:]]\",\n",
    "                                replacement = \"\")) %>% \n",
    "  unnest_tokens(tokens, details.description) %>% #tokenize\n",
    "  mutate(tokens = vec_hunspell_stem(tokens)) %>% \n",
    "  filter(!(tokens %in% stop_words$word)) #rm stopwords"
   ]
  },
  {
   "cell_type": "markdown",
   "metadata": {},
   "source": [
    "## Regression Tree of Words to Average Rating"
   ]
  },
  {
   "cell_type": "code",
   "execution_count": 6,
   "metadata": {},
   "outputs": [
    {
     "name": "stderr",
     "output_type": "stream",
     "text": [
      "Joining, by = \"details.name\"\n"
     ]
    }
   ],
   "source": [
    "desc_words <- desc_tokens %>%\n",
    "    count(details.name,tokens,sort=TRUE)\n",
    "\n",
    "total_words <- desc_words %>%\n",
    "    group_by(details.name) %>%\n",
    "    summarize(total=sum(n))\n",
    "\n",
    "desc_summ <- left_join(desc_words,total_words)\n",
    "\n",
    "\n",
    "desc_summ <- desc_summ %>%\n",
    "    bind_tf_idf(tokens,details.name,n)\n",
    "\n"
   ]
  },
  {
   "cell_type": "code",
   "execution_count": 7,
   "metadata": {},
   "outputs": [],
   "source": [
    "desc_cl <- desc_tokens\n",
    "\n",
    "sparse_words <- desc_cl %>%\n",
    "    count(details.name,tokens) %>%\n",
    "    cast_sparse(details.name,tokens,n)\n",
    "\n",
    "sparse_words = as.data.frame(as.matrix(sparse_words))\n",
    "\n",
    "\n",
    "colnames(sparse_words) = make.names(colnames(sparse_words))\n",
    "\n",
    "sort_val <- p1 %>%\n",
    "    arrange(details.name) %>%\n",
    "    select(stats.average)\n",
    "dataset=cbind(sparse_words,sort_val)\n",
    "\n",
    "\n",
    "desc_split <- dataset %>% initial_split()\n",
    "\n",
    "train_data <- training(desc_split)\n",
    "test_data <- testing(desc_split)\n",
    "\n"
   ]
  },
  {
   "cell_type": "code",
   "execution_count": 8,
   "metadata": {},
   "outputs": [],
   "source": [
    "desc_part=rpart(stats.average~.,data=train_data)"
   ]
  },
  {
   "cell_type": "code",
   "execution_count": 9,
   "metadata": {},
   "outputs": [
    {
     "data": {
      "image/png": "[encoded data removed]",
      "text/plain": [
       "plot without title"
      ]
     },
     "metadata": {},
     "output_type": "display_data"
    }
   ],
   "source": [
    "prp(desc_part)"
   ]
  },
  {
   "cell_type": "code",
   "execution_count": 10,
   "metadata": {},
   "outputs": [
    {
     "data": {
      "text/plain": [
       "   \n",
       "      3   4   5   6   7\n",
       "  0   0   0   1   1   0\n",
       "  4   1   0   0   7   0\n",
       "  5   0   0   0  25   2\n",
       "  6   1   1   1 110  17\n",
       "  7   0   1   2  56  17\n",
       "  8   0   0   0   3   3"
      ]
     },
     "metadata": {},
     "output_type": "display_data"
    },
    {
     "data": {
      "text/html": [
       "'RMSE is 0.985844'"
      ],
      "text/latex": [
       "'RMSE is 0.985844'"
      ],
      "text/markdown": [
       "'RMSE is 0.985844'"
      ],
      "text/plain": [
       "[1] \"RMSE is 0.985844\""
      ]
     },
     "metadata": {},
     "output_type": "display_data"
    }
   ],
   "source": [
    "test.pred.rtree <- predict(desc_part,test_data)\n",
    "table(round(test_data$stats.average),round(test.pred.rtree))\n",
    "\n",
    "RMSE.rtree <- sqrt(mean((round(test_data$stats.average)-round(test.pred.rtree))^2))\n",
    "\n",
    "sprintf(\"RMSE is %f\", RMSE.rtree) "
   ]
  }
 ],
 "metadata": {
  "kernelspec": {
   "display_name": "R",
   "language": "R",
   "name": "ir"
  },
  "language_info": {
   "codemirror_mode": "r",
   "file_extension": ".r",
   "mimetype": "text/x-r-source",
   "name": "R",
   "pygments_lexer": "r",
   "version": "3.6.1"
  }
 },
 "nbformat": 4,
 "nbformat_minor": 4
}
